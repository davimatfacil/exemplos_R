{
 "cells": [
  {
   "cell_type": "markdown",
   "metadata": {},
   "source": [
    "#### prof. Davi Rocha"
   ]
  },
  {
   "cell_type": "markdown",
   "metadata": {},
   "source": [
    "### Resumo de Amostragem 1"
   ]
  },
  {
   "cell_type": "markdown",
   "metadata": {},
   "source": [
    "#### Amostra\n",
    "Parte de uma população, selecionada usando alguma técnica que de chances\n",
    "iguais a todos os elementos da população de serem selecionados"
   ]
  },
  {
   "cell_type": "markdown",
   "metadata": {},
   "source": [
    "#### Conceitos\n",
    "\n",
    "- População: alvo do estudo\n",
    "\n",
    "- Amostra: subconjunto da população\n",
    "\n",
    "- Censo: pesquisa com toda população"
   ]
  },
  {
   "cell_type": "markdown",
   "metadata": {},
   "source": [
    "#### É possível inferir sobre uma amostra\n",
    "\n",
    "- Uma amostra feita corretamente deve representar as mesmas características da população de onde foi retirada.\n",
    "\n",
    "- Se ela não representa a população, dizemos que ele é enviesada"
   ]
  },
  {
   "cell_type": "markdown",
   "metadata": {},
   "source": [
    "#### Enviesamento\n",
    "Você subestima ou superestima o parâmetro da população\n",
    "\n",
    "##### Causas:\n",
    "\n",
    "- Pesquisa de pessoas próximas ou de fácil acesso\n",
    "\n",
    "- Pesquisas pela Internet\n",
    "\n",
    "- Sem uso de mecanismo de seleção aleatório"
   ]
  },
  {
   "cell_type": "markdown",
   "metadata": {},
   "source": [
    "#### “Custo” da Amostra\n",
    "\n",
    "- Margem de Erro e Nível de Confiança\n",
    "- Variação: amostrar diferentes podem apresentar resultados diferentes\n",
    "- Podemos “medir” a variação esperada"
   ]
  },
  {
   "cell_type": "markdown",
   "metadata": {},
   "source": [
    "#### Amostragem\n",
    "- Amplamente utilizada em pesquisas, estudos etc.\n",
    "- Faz parte do dia a dia de um Cientista de Dados"
   ]
  },
  {
   "cell_type": "markdown",
   "metadata": {},
   "source": [
    "#### Principais tipos de amostras\n",
    "\n",
    "\n",
    "- Aleatória Simples\n",
    "\n",
    "- Estratificada\n",
    "- Sistemática"
   ]
  },
  {
   "cell_type": "markdown",
   "metadata": {},
   "source": [
    "Aqui veremos só a AAS(Amostra Aleatória Simples), nos próximos resumos falaremos dos outros tipos"
   ]
  },
  {
   "cell_type": "markdown",
   "metadata": {},
   "source": [
    "#### Amostras Aleatórias Simples(AAS)\n",
    "\n",
    "• Um determinado número de elementos é retirado da população de forma aleatória\n",
    "\n",
    "• Todos os elementos da população alvo do processo de amostragem, devem ter as mesmas chances de serem selecionados para fazer parte da amostra"
   ]
  },
  {
   "cell_type": "markdown",
   "metadata": {},
   "source": [
    "##### Amostras Aleatórias Simples:\n",
    "\n",
    "- Com reposição - depois de selecionada a unidade amostral volta para a amostra e pode ser selecionada novamente em uma nova realização do experimento\n",
    "- Sem reposição  - depois de selecionada a unidade amostral não volta para a amostra"
   ]
  },
  {
   "cell_type": "markdown",
   "metadata": {},
   "source": [
    " Vamos ver como fazer AAS no R:"
   ]
  },
  {
   "cell_type": "markdown",
   "metadata": {},
   "source": [
    "1) Vamos gerar 150 amostras de 0's e 1's, com reposição com probabilidade igual de ser escolhido(pode pensar como o lançamento de uma moeda, por exemplo 0=cara e 1=coroa)"
   ]
  },
  {
   "cell_type": "code",
   "execution_count": 2,
   "metadata": {},
   "outputs": [],
   "source": [
    "#Gerando a amostra\n",
    "amostra <- sample(x = c(0,1), size = 150,replace = TRUE, prob = c(0.5,0.5))"
   ]
  },
  {
   "cell_type": "code",
   "execution_count": 3,
   "metadata": {},
   "outputs": [
    {
     "data": {
      "text/html": [
       "<style>\n",
       ".list-inline {list-style: none; margin:0; padding: 0}\n",
       ".list-inline>li {display: inline-block}\n",
       ".list-inline>li:not(:last-child)::after {content: \"\\00b7\"; padding: 0 .5ex}\n",
       "</style>\n",
       "<ol class=list-inline><li>1</li><li>1</li><li>0</li><li>0</li><li>0</li><li>0</li><li>1</li><li>1</li><li>0</li><li>0</li><li>1</li><li>0</li><li>1</li><li>1</li><li>0</li><li>1</li><li>0</li><li>0</li><li>1</li><li>1</li><li>0</li><li>1</li><li>1</li><li>1</li><li>1</li><li>1</li><li>1</li><li>0</li><li>1</li><li>1</li><li>0</li><li>0</li><li>1</li><li>1</li><li>0</li><li>1</li><li>1</li><li>1</li><li>0</li><li>0</li><li>1</li><li>1</li><li>1</li><li>1</li><li>0</li><li>0</li><li>1</li><li>1</li><li>1</li><li>0</li><li>0</li><li>1</li><li>0</li><li>1</li><li>0</li><li>0</li><li>0</li><li>1</li><li>1</li><li>0</li><li>1</li><li>0</li><li>0</li><li>1</li><li>0</li><li>0</li><li>1</li><li>0</li><li>0</li><li>1</li><li>1</li><li>0</li><li>0</li><li>1</li><li>0</li><li>1</li><li>1</li><li>0</li><li>0</li><li>0</li><li>1</li><li>1</li><li>1</li><li>0</li><li>1</li><li>1</li><li>0</li><li>0</li><li>0</li><li>0</li><li>0</li><li>0</li><li>0</li><li>0</li><li>0</li><li>0</li><li>1</li><li>1</li><li>1</li><li>1</li><li>1</li><li>0</li><li>0</li><li>0</li><li>0</li><li>0</li><li>0</li><li>0</li><li>0</li><li>1</li><li>0</li><li>0</li><li>1</li><li>0</li><li>1</li><li>0</li><li>1</li><li>0</li><li>0</li><li>1</li><li>1</li><li>0</li><li>1</li><li>0</li><li>1</li><li>1</li><li>0</li><li>0</li><li>1</li><li>0</li><li>1</li><li>0</li><li>0</li><li>1</li><li>0</li><li>1</li><li>1</li><li>1</li><li>0</li><li>0</li><li>0</li><li>1</li><li>1</li><li>1</li><li>0</li><li>0</li><li>1</li><li>0</li><li>1</li><li>1</li></ol>\n"
      ],
      "text/latex": [
       "\\begin{enumerate*}\n",
       "\\item 1\n",
       "\\item 1\n",
       "\\item 0\n",
       "\\item 0\n",
       "\\item 0\n",
       "\\item 0\n",
       "\\item 1\n",
       "\\item 1\n",
       "\\item 0\n",
       "\\item 0\n",
       "\\item 1\n",
       "\\item 0\n",
       "\\item 1\n",
       "\\item 1\n",
       "\\item 0\n",
       "\\item 1\n",
       "\\item 0\n",
       "\\item 0\n",
       "\\item 1\n",
       "\\item 1\n",
       "\\item 0\n",
       "\\item 1\n",
       "\\item 1\n",
       "\\item 1\n",
       "\\item 1\n",
       "\\item 1\n",
       "\\item 1\n",
       "\\item 0\n",
       "\\item 1\n",
       "\\item 1\n",
       "\\item 0\n",
       "\\item 0\n",
       "\\item 1\n",
       "\\item 1\n",
       "\\item 0\n",
       "\\item 1\n",
       "\\item 1\n",
       "\\item 1\n",
       "\\item 0\n",
       "\\item 0\n",
       "\\item 1\n",
       "\\item 1\n",
       "\\item 1\n",
       "\\item 1\n",
       "\\item 0\n",
       "\\item 0\n",
       "\\item 1\n",
       "\\item 1\n",
       "\\item 1\n",
       "\\item 0\n",
       "\\item 0\n",
       "\\item 1\n",
       "\\item 0\n",
       "\\item 1\n",
       "\\item 0\n",
       "\\item 0\n",
       "\\item 0\n",
       "\\item 1\n",
       "\\item 1\n",
       "\\item 0\n",
       "\\item 1\n",
       "\\item 0\n",
       "\\item 0\n",
       "\\item 1\n",
       "\\item 0\n",
       "\\item 0\n",
       "\\item 1\n",
       "\\item 0\n",
       "\\item 0\n",
       "\\item 1\n",
       "\\item 1\n",
       "\\item 0\n",
       "\\item 0\n",
       "\\item 1\n",
       "\\item 0\n",
       "\\item 1\n",
       "\\item 1\n",
       "\\item 0\n",
       "\\item 0\n",
       "\\item 0\n",
       "\\item 1\n",
       "\\item 1\n",
       "\\item 1\n",
       "\\item 0\n",
       "\\item 1\n",
       "\\item 1\n",
       "\\item 0\n",
       "\\item 0\n",
       "\\item 0\n",
       "\\item 0\n",
       "\\item 0\n",
       "\\item 0\n",
       "\\item 0\n",
       "\\item 0\n",
       "\\item 0\n",
       "\\item 0\n",
       "\\item 1\n",
       "\\item 1\n",
       "\\item 1\n",
       "\\item 1\n",
       "\\item 1\n",
       "\\item 0\n",
       "\\item 0\n",
       "\\item 0\n",
       "\\item 0\n",
       "\\item 0\n",
       "\\item 0\n",
       "\\item 0\n",
       "\\item 0\n",
       "\\item 1\n",
       "\\item 0\n",
       "\\item 0\n",
       "\\item 1\n",
       "\\item 0\n",
       "\\item 1\n",
       "\\item 0\n",
       "\\item 1\n",
       "\\item 0\n",
       "\\item 0\n",
       "\\item 1\n",
       "\\item 1\n",
       "\\item 0\n",
       "\\item 1\n",
       "\\item 0\n",
       "\\item 1\n",
       "\\item 1\n",
       "\\item 0\n",
       "\\item 0\n",
       "\\item 1\n",
       "\\item 0\n",
       "\\item 1\n",
       "\\item 0\n",
       "\\item 0\n",
       "\\item 1\n",
       "\\item 0\n",
       "\\item 1\n",
       "\\item 1\n",
       "\\item 1\n",
       "\\item 0\n",
       "\\item 0\n",
       "\\item 0\n",
       "\\item 1\n",
       "\\item 1\n",
       "\\item 1\n",
       "\\item 0\n",
       "\\item 0\n",
       "\\item 1\n",
       "\\item 0\n",
       "\\item 1\n",
       "\\item 1\n",
       "\\end{enumerate*}\n"
      ],
      "text/markdown": [
       "1. 1\n",
       "2. 1\n",
       "3. 0\n",
       "4. 0\n",
       "5. 0\n",
       "6. 0\n",
       "7. 1\n",
       "8. 1\n",
       "9. 0\n",
       "10. 0\n",
       "11. 1\n",
       "12. 0\n",
       "13. 1\n",
       "14. 1\n",
       "15. 0\n",
       "16. 1\n",
       "17. 0\n",
       "18. 0\n",
       "19. 1\n",
       "20. 1\n",
       "21. 0\n",
       "22. 1\n",
       "23. 1\n",
       "24. 1\n",
       "25. 1\n",
       "26. 1\n",
       "27. 1\n",
       "28. 0\n",
       "29. 1\n",
       "30. 1\n",
       "31. 0\n",
       "32. 0\n",
       "33. 1\n",
       "34. 1\n",
       "35. 0\n",
       "36. 1\n",
       "37. 1\n",
       "38. 1\n",
       "39. 0\n",
       "40. 0\n",
       "41. 1\n",
       "42. 1\n",
       "43. 1\n",
       "44. 1\n",
       "45. 0\n",
       "46. 0\n",
       "47. 1\n",
       "48. 1\n",
       "49. 1\n",
       "50. 0\n",
       "51. 0\n",
       "52. 1\n",
       "53. 0\n",
       "54. 1\n",
       "55. 0\n",
       "56. 0\n",
       "57. 0\n",
       "58. 1\n",
       "59. 1\n",
       "60. 0\n",
       "61. 1\n",
       "62. 0\n",
       "63. 0\n",
       "64. 1\n",
       "65. 0\n",
       "66. 0\n",
       "67. 1\n",
       "68. 0\n",
       "69. 0\n",
       "70. 1\n",
       "71. 1\n",
       "72. 0\n",
       "73. 0\n",
       "74. 1\n",
       "75. 0\n",
       "76. 1\n",
       "77. 1\n",
       "78. 0\n",
       "79. 0\n",
       "80. 0\n",
       "81. 1\n",
       "82. 1\n",
       "83. 1\n",
       "84. 0\n",
       "85. 1\n",
       "86. 1\n",
       "87. 0\n",
       "88. 0\n",
       "89. 0\n",
       "90. 0\n",
       "91. 0\n",
       "92. 0\n",
       "93. 0\n",
       "94. 0\n",
       "95. 0\n",
       "96. 0\n",
       "97. 1\n",
       "98. 1\n",
       "99. 1\n",
       "100. 1\n",
       "101. 1\n",
       "102. 0\n",
       "103. 0\n",
       "104. 0\n",
       "105. 0\n",
       "106. 0\n",
       "107. 0\n",
       "108. 0\n",
       "109. 0\n",
       "110. 1\n",
       "111. 0\n",
       "112. 0\n",
       "113. 1\n",
       "114. 0\n",
       "115. 1\n",
       "116. 0\n",
       "117. 1\n",
       "118. 0\n",
       "119. 0\n",
       "120. 1\n",
       "121. 1\n",
       "122. 0\n",
       "123. 1\n",
       "124. 0\n",
       "125. 1\n",
       "126. 1\n",
       "127. 0\n",
       "128. 0\n",
       "129. 1\n",
       "130. 0\n",
       "131. 1\n",
       "132. 0\n",
       "133. 0\n",
       "134. 1\n",
       "135. 0\n",
       "136. 1\n",
       "137. 1\n",
       "138. 1\n",
       "139. 0\n",
       "140. 0\n",
       "141. 0\n",
       "142. 1\n",
       "143. 1\n",
       "144. 1\n",
       "145. 0\n",
       "146. 0\n",
       "147. 1\n",
       "148. 0\n",
       "149. 1\n",
       "150. 1\n",
       "\n",
       "\n"
      ],
      "text/plain": [
       "  [1] 1 1 0 0 0 0 1 1 0 0 1 0 1 1 0 1 0 0 1 1 0 1 1 1 1 1 1 0 1 1 0 0 1 1 0 1 1\n",
       " [38] 1 0 0 1 1 1 1 0 0 1 1 1 0 0 1 0 1 0 0 0 1 1 0 1 0 0 1 0 0 1 0 0 1 1 0 0 1\n",
       " [75] 0 1 1 0 0 0 1 1 1 0 1 1 0 0 0 0 0 0 0 0 0 0 1 1 1 1 1 0 0 0 0 0 0 0 0 1 0\n",
       "[112] 0 1 0 1 0 1 0 0 1 1 0 1 0 1 1 0 0 1 0 1 0 0 1 0 1 1 1 0 0 0 1 1 1 0 0 1 0\n",
       "[149] 1 1"
      ]
     },
     "metadata": {},
     "output_type": "display_data"
    }
   ],
   "source": [
    "#Vendo os resultados:\n",
    "amostra"
   ]
  },
  {
   "cell_type": "code",
   "execution_count": 4,
   "metadata": {},
   "outputs": [
    {
     "data": {
      "text/html": [
       "<style>\n",
       ".dl-inline {width: auto; margin:0; padding: 0}\n",
       ".dl-inline>dt, .dl-inline>dd {float: none; width: auto; display: inline-block}\n",
       ".dl-inline>dt::after {content: \":\\0020\"; padding-right: .5ex}\n",
       ".dl-inline>dt:not(:first-of-type) {padding-left: .5ex}\n",
       "</style><dl class=dl-inline><dt>0</dt><dd>77</dd><dt>1</dt><dd>73</dd></dl>\n"
      ],
      "text/latex": [
       "\\begin{description*}\n",
       "\\item[0] 77\n",
       "\\item[1] 73\n",
       "\\end{description*}\n"
      ],
      "text/markdown": [
       "0\n",
       ":   771\n",
       ":   73\n",
       "\n"
      ],
      "text/plain": [
       " 0  1 \n",
       "77 73 "
      ]
     },
     "metadata": {},
     "output_type": "display_data"
    }
   ],
   "source": [
    "#Quantidade de cada tipo\n",
    "summary(as.factor(amostra))"
   ]
  },
  {
   "cell_type": "markdown",
   "metadata": {},
   "source": [
    "Vamos olhar a proporção\n",
    "\n",
    "De 0's:\n",
    "\n"
   ]
  },
  {
   "cell_type": "code",
   "execution_count": 5,
   "metadata": {},
   "outputs": [
    {
     "data": {
      "text/html": [
       "0.513333333333333"
      ],
      "text/latex": [
       "0.513333333333333"
      ],
      "text/markdown": [
       "0.513333333333333"
      ],
      "text/plain": [
       "[1] 0.5133333"
      ]
     },
     "metadata": {},
     "output_type": "display_data"
    }
   ],
   "source": [
    "sum(amostra==0)/sum(summary(as.factor(amostra)))"
   ]
  },
  {
   "cell_type": "markdown",
   "metadata": {},
   "source": [
    "Vamos olhar a proporção\n",
    "\n",
    "De 1's:\n",
    "\n"
   ]
  },
  {
   "cell_type": "code",
   "execution_count": 6,
   "metadata": {},
   "outputs": [
    {
     "data": {
      "text/html": [
       "0.486666666666667"
      ],
      "text/latex": [
       "0.486666666666667"
      ],
      "text/markdown": [
       "0.486666666666667"
      ],
      "text/plain": [
       "[1] 0.4866667"
      ]
     },
     "metadata": {},
     "output_type": "display_data"
    }
   ],
   "source": [
    "sum(amostra==1)/sum(summary(as.factor(amostra)))"
   ]
  },
  {
   "cell_type": "markdown",
   "metadata": {},
   "source": [
    "Perceba que deu bem proximo de 0.5, com 150 valores na amostra. Se aumentar a amostra provavelmente ficarão mais próximo ainda de acordo com a lei dos grandes números. "
   ]
  },
  {
   "cell_type": "markdown",
   "metadata": {},
   "source": [
    "2) Vamos gerar 150 amostras de 0's e 1's, com reposição com probabilidade maior para 0's."
   ]
  },
  {
   "cell_type": "code",
   "execution_count": 7,
   "metadata": {},
   "outputs": [],
   "source": [
    "amostra_2<-sample(x=c(0,1), 150, replace=TRUE, prob=c(0.7,0.3))"
   ]
  },
  {
   "cell_type": "code",
   "execution_count": 8,
   "metadata": {},
   "outputs": [
    {
     "data": {
      "text/html": [
       "<style>\n",
       ".list-inline {list-style: none; margin:0; padding: 0}\n",
       ".list-inline>li {display: inline-block}\n",
       ".list-inline>li:not(:last-child)::after {content: \"\\00b7\"; padding: 0 .5ex}\n",
       "</style>\n",
       "<ol class=list-inline><li>1</li><li>1</li><li>1</li><li>0</li><li>0</li><li>1</li><li>0</li><li>1</li><li>1</li><li>1</li><li>0</li><li>0</li><li>0</li><li>1</li><li>1</li><li>0</li><li>1</li><li>1</li><li>1</li><li>0</li><li>1</li><li>0</li><li>0</li><li>0</li><li>0</li><li>0</li><li>0</li><li>0</li><li>0</li><li>0</li><li>0</li><li>1</li><li>0</li><li>1</li><li>0</li><li>1</li><li>1</li><li>0</li><li>1</li><li>0</li><li>0</li><li>0</li><li>1</li><li>0</li><li>1</li><li>0</li><li>1</li><li>0</li><li>0</li><li>1</li><li>0</li><li>0</li><li>0</li><li>0</li><li>1</li><li>1</li><li>0</li><li>0</li><li>0</li><li>0</li><li>0</li><li>0</li><li>1</li><li>1</li><li>0</li><li>0</li><li>1</li><li>0</li><li>0</li><li>0</li><li>0</li><li>0</li><li>1</li><li>0</li><li>1</li><li>1</li><li>1</li><li>1</li><li>0</li><li>1</li><li>0</li><li>1</li><li>1</li><li>0</li><li>1</li><li>1</li><li>0</li><li>1</li><li>1</li><li>0</li><li>1</li><li>0</li><li>0</li><li>1</li><li>0</li><li>1</li><li>0</li><li>1</li><li>0</li><li>0</li><li>0</li><li>0</li><li>0</li><li>1</li><li>1</li><li>0</li><li>1</li><li>0</li><li>1</li><li>0</li><li>1</li><li>1</li><li>1</li><li>0</li><li>0</li><li>1</li><li>0</li><li>0</li><li>0</li><li>1</li><li>0</li><li>0</li><li>0</li><li>1</li><li>0</li><li>0</li><li>0</li><li>0</li><li>0</li><li>0</li><li>0</li><li>0</li><li>1</li><li>0</li><li>0</li><li>0</li><li>0</li><li>0</li><li>0</li><li>1</li><li>0</li><li>0</li><li>1</li><li>0</li><li>0</li><li>0</li><li>0</li><li>0</li><li>1</li><li>0</li></ol>\n"
      ],
      "text/latex": [
       "\\begin{enumerate*}\n",
       "\\item 1\n",
       "\\item 1\n",
       "\\item 1\n",
       "\\item 0\n",
       "\\item 0\n",
       "\\item 1\n",
       "\\item 0\n",
       "\\item 1\n",
       "\\item 1\n",
       "\\item 1\n",
       "\\item 0\n",
       "\\item 0\n",
       "\\item 0\n",
       "\\item 1\n",
       "\\item 1\n",
       "\\item 0\n",
       "\\item 1\n",
       "\\item 1\n",
       "\\item 1\n",
       "\\item 0\n",
       "\\item 1\n",
       "\\item 0\n",
       "\\item 0\n",
       "\\item 0\n",
       "\\item 0\n",
       "\\item 0\n",
       "\\item 0\n",
       "\\item 0\n",
       "\\item 0\n",
       "\\item 0\n",
       "\\item 0\n",
       "\\item 1\n",
       "\\item 0\n",
       "\\item 1\n",
       "\\item 0\n",
       "\\item 1\n",
       "\\item 1\n",
       "\\item 0\n",
       "\\item 1\n",
       "\\item 0\n",
       "\\item 0\n",
       "\\item 0\n",
       "\\item 1\n",
       "\\item 0\n",
       "\\item 1\n",
       "\\item 0\n",
       "\\item 1\n",
       "\\item 0\n",
       "\\item 0\n",
       "\\item 1\n",
       "\\item 0\n",
       "\\item 0\n",
       "\\item 0\n",
       "\\item 0\n",
       "\\item 1\n",
       "\\item 1\n",
       "\\item 0\n",
       "\\item 0\n",
       "\\item 0\n",
       "\\item 0\n",
       "\\item 0\n",
       "\\item 0\n",
       "\\item 1\n",
       "\\item 1\n",
       "\\item 0\n",
       "\\item 0\n",
       "\\item 1\n",
       "\\item 0\n",
       "\\item 0\n",
       "\\item 0\n",
       "\\item 0\n",
       "\\item 0\n",
       "\\item 1\n",
       "\\item 0\n",
       "\\item 1\n",
       "\\item 1\n",
       "\\item 1\n",
       "\\item 1\n",
       "\\item 0\n",
       "\\item 1\n",
       "\\item 0\n",
       "\\item 1\n",
       "\\item 1\n",
       "\\item 0\n",
       "\\item 1\n",
       "\\item 1\n",
       "\\item 0\n",
       "\\item 1\n",
       "\\item 1\n",
       "\\item 0\n",
       "\\item 1\n",
       "\\item 0\n",
       "\\item 0\n",
       "\\item 1\n",
       "\\item 0\n",
       "\\item 1\n",
       "\\item 0\n",
       "\\item 1\n",
       "\\item 0\n",
       "\\item 0\n",
       "\\item 0\n",
       "\\item 0\n",
       "\\item 0\n",
       "\\item 1\n",
       "\\item 1\n",
       "\\item 0\n",
       "\\item 1\n",
       "\\item 0\n",
       "\\item 1\n",
       "\\item 0\n",
       "\\item 1\n",
       "\\item 1\n",
       "\\item 1\n",
       "\\item 0\n",
       "\\item 0\n",
       "\\item 1\n",
       "\\item 0\n",
       "\\item 0\n",
       "\\item 0\n",
       "\\item 1\n",
       "\\item 0\n",
       "\\item 0\n",
       "\\item 0\n",
       "\\item 1\n",
       "\\item 0\n",
       "\\item 0\n",
       "\\item 0\n",
       "\\item 0\n",
       "\\item 0\n",
       "\\item 0\n",
       "\\item 0\n",
       "\\item 0\n",
       "\\item 1\n",
       "\\item 0\n",
       "\\item 0\n",
       "\\item 0\n",
       "\\item 0\n",
       "\\item 0\n",
       "\\item 0\n",
       "\\item 1\n",
       "\\item 0\n",
       "\\item 0\n",
       "\\item 1\n",
       "\\item 0\n",
       "\\item 0\n",
       "\\item 0\n",
       "\\item 0\n",
       "\\item 0\n",
       "\\item 1\n",
       "\\item 0\n",
       "\\end{enumerate*}\n"
      ],
      "text/markdown": [
       "1. 1\n",
       "2. 1\n",
       "3. 1\n",
       "4. 0\n",
       "5. 0\n",
       "6. 1\n",
       "7. 0\n",
       "8. 1\n",
       "9. 1\n",
       "10. 1\n",
       "11. 0\n",
       "12. 0\n",
       "13. 0\n",
       "14. 1\n",
       "15. 1\n",
       "16. 0\n",
       "17. 1\n",
       "18. 1\n",
       "19. 1\n",
       "20. 0\n",
       "21. 1\n",
       "22. 0\n",
       "23. 0\n",
       "24. 0\n",
       "25. 0\n",
       "26. 0\n",
       "27. 0\n",
       "28. 0\n",
       "29. 0\n",
       "30. 0\n",
       "31. 0\n",
       "32. 1\n",
       "33. 0\n",
       "34. 1\n",
       "35. 0\n",
       "36. 1\n",
       "37. 1\n",
       "38. 0\n",
       "39. 1\n",
       "40. 0\n",
       "41. 0\n",
       "42. 0\n",
       "43. 1\n",
       "44. 0\n",
       "45. 1\n",
       "46. 0\n",
       "47. 1\n",
       "48. 0\n",
       "49. 0\n",
       "50. 1\n",
       "51. 0\n",
       "52. 0\n",
       "53. 0\n",
       "54. 0\n",
       "55. 1\n",
       "56. 1\n",
       "57. 0\n",
       "58. 0\n",
       "59. 0\n",
       "60. 0\n",
       "61. 0\n",
       "62. 0\n",
       "63. 1\n",
       "64. 1\n",
       "65. 0\n",
       "66. 0\n",
       "67. 1\n",
       "68. 0\n",
       "69. 0\n",
       "70. 0\n",
       "71. 0\n",
       "72. 0\n",
       "73. 1\n",
       "74. 0\n",
       "75. 1\n",
       "76. 1\n",
       "77. 1\n",
       "78. 1\n",
       "79. 0\n",
       "80. 1\n",
       "81. 0\n",
       "82. 1\n",
       "83. 1\n",
       "84. 0\n",
       "85. 1\n",
       "86. 1\n",
       "87. 0\n",
       "88. 1\n",
       "89. 1\n",
       "90. 0\n",
       "91. 1\n",
       "92. 0\n",
       "93. 0\n",
       "94. 1\n",
       "95. 0\n",
       "96. 1\n",
       "97. 0\n",
       "98. 1\n",
       "99. 0\n",
       "100. 0\n",
       "101. 0\n",
       "102. 0\n",
       "103. 0\n",
       "104. 1\n",
       "105. 1\n",
       "106. 0\n",
       "107. 1\n",
       "108. 0\n",
       "109. 1\n",
       "110. 0\n",
       "111. 1\n",
       "112. 1\n",
       "113. 1\n",
       "114. 0\n",
       "115. 0\n",
       "116. 1\n",
       "117. 0\n",
       "118. 0\n",
       "119. 0\n",
       "120. 1\n",
       "121. 0\n",
       "122. 0\n",
       "123. 0\n",
       "124. 1\n",
       "125. 0\n",
       "126. 0\n",
       "127. 0\n",
       "128. 0\n",
       "129. 0\n",
       "130. 0\n",
       "131. 0\n",
       "132. 0\n",
       "133. 1\n",
       "134. 0\n",
       "135. 0\n",
       "136. 0\n",
       "137. 0\n",
       "138. 0\n",
       "139. 0\n",
       "140. 1\n",
       "141. 0\n",
       "142. 0\n",
       "143. 1\n",
       "144. 0\n",
       "145. 0\n",
       "146. 0\n",
       "147. 0\n",
       "148. 0\n",
       "149. 1\n",
       "150. 0\n",
       "\n",
       "\n"
      ],
      "text/plain": [
       "  [1] 1 1 1 0 0 1 0 1 1 1 0 0 0 1 1 0 1 1 1 0 1 0 0 0 0 0 0 0 0 0 0 1 0 1 0 1 1\n",
       " [38] 0 1 0 0 0 1 0 1 0 1 0 0 1 0 0 0 0 1 1 0 0 0 0 0 0 1 1 0 0 1 0 0 0 0 0 1 0\n",
       " [75] 1 1 1 1 0 1 0 1 1 0 1 1 0 1 1 0 1 0 0 1 0 1 0 1 0 0 0 0 0 1 1 0 1 0 1 0 1\n",
       "[112] 1 1 0 0 1 0 0 0 1 0 0 0 1 0 0 0 0 0 0 0 0 1 0 0 0 0 0 0 1 0 0 1 0 0 0 0 0\n",
       "[149] 1 0"
      ]
     },
     "metadata": {},
     "output_type": "display_data"
    }
   ],
   "source": [
    "#Vendo os resultados:\n",
    "amostra_2"
   ]
  },
  {
   "cell_type": "code",
   "execution_count": 9,
   "metadata": {},
   "outputs": [
    {
     "data": {
      "text/html": [
       "<style>\n",
       ".dl-inline {width: auto; margin:0; padding: 0}\n",
       ".dl-inline>dt, .dl-inline>dd {float: none; width: auto; display: inline-block}\n",
       ".dl-inline>dt::after {content: \":\\0020\"; padding-right: .5ex}\n",
       ".dl-inline>dt:not(:first-of-type) {padding-left: .5ex}\n",
       "</style><dl class=dl-inline><dt>0</dt><dd>93</dd><dt>1</dt><dd>57</dd></dl>\n"
      ],
      "text/latex": [
       "\\begin{description*}\n",
       "\\item[0] 93\n",
       "\\item[1] 57\n",
       "\\end{description*}\n"
      ],
      "text/markdown": [
       "0\n",
       ":   931\n",
       ":   57\n",
       "\n"
      ],
      "text/plain": [
       " 0  1 \n",
       "93 57 "
      ]
     },
     "metadata": {},
     "output_type": "display_data"
    }
   ],
   "source": [
    "#Quantidade de cada tipo\n",
    "summary(as.factor(amostra_2))"
   ]
  },
  {
   "cell_type": "markdown",
   "metadata": {},
   "source": [
    "Vamos olhar a proporção\n",
    "\n",
    "De 0's:\n",
    "\n"
   ]
  },
  {
   "cell_type": "code",
   "execution_count": 10,
   "metadata": {},
   "outputs": [
    {
     "data": {
      "text/html": [
       "0.62"
      ],
      "text/latex": [
       "0.62"
      ],
      "text/markdown": [
       "0.62"
      ],
      "text/plain": [
       "[1] 0.62"
      ]
     },
     "metadata": {},
     "output_type": "display_data"
    }
   ],
   "source": [
    "sum(amostra_2==0)/sum(summary(as.factor(amostra_2)))"
   ]
  },
  {
   "cell_type": "markdown",
   "metadata": {},
   "source": [
    "Vamos olhar a proporção\n",
    "\n",
    "De 1's:\n",
    "\n"
   ]
  },
  {
   "cell_type": "code",
   "execution_count": 11,
   "metadata": {},
   "outputs": [
    {
     "data": {
      "text/html": [
       "0.38"
      ],
      "text/latex": [
       "0.38"
      ],
      "text/markdown": [
       "0.38"
      ],
      "text/plain": [
       "[1] 0.38"
      ]
     },
     "metadata": {},
     "output_type": "display_data"
    }
   ],
   "source": [
    "sum(amostra_2==1)/sum(summary(as.factor(amostra_2)))"
   ]
  },
  {
   "cell_type": "markdown",
   "metadata": {},
   "source": [
    "3) 150 amostras, de 1 a 1000, sem reposição, prob. equivalentes"
   ]
  },
  {
   "cell_type": "code",
   "execution_count": 12,
   "metadata": {},
   "outputs": [
    {
     "data": {
      "text/html": [
       "<style>\n",
       ".list-inline {list-style: none; margin:0; padding: 0}\n",
       ".list-inline>li {display: inline-block}\n",
       ".list-inline>li:not(:last-child)::after {content: \"\\00b7\"; padding: 0 .5ex}\n",
       "</style>\n",
       "<ol class=list-inline><li>783</li><li>454</li><li>339</li><li>753</li><li>839</li><li>162</li><li>565</li><li>366</li><li>193</li><li>8</li><li>107</li><li>470</li><li>939</li><li>693</li><li>877</li><li>801</li><li>702</li><li>919</li><li>163</li><li>485</li><li>303</li><li>524</li><li>908</li><li>792</li><li>646</li><li>709</li><li>409</li><li>108</li><li>345</li><li>310</li><li>70</li><li>941</li><li>344</li><li>450</li><li>841</li><li>274</li><li>493</li><li>410</li><li>769</li><li>853</li><li>629</li><li>73</li><li>159</li><li>507</li><li>30</li><li>982</li><li>180</li><li>312</li><li>50</li><li>806</li><li>135</li><li>399</li><li>597</li><li>84</li><li>652</li><li>741</li><li>186</li><li>602</li><li>885</li><li>105</li><li>60</li><li>382</li><li>722</li><li>736</li><li>934</li><li>746</li><li>184</li><li>762</li><li>935</li><li>160</li><li>619</li><li>484</li><li>694</li><li>116</li><li>384</li><li>260</li><li>465</li><li>91</li><li>829</li><li>808</li><li>929</li><li>277</li><li>279</li><li>511</li><li>199</li><li>362</li><li>173</li><li>134</li><li>760</li><li>337</li><li>509</li><li>596</li><li>435</li><li>393</li><li>63</li><li>636</li><li>944</li><li>26</li><li>265</li><li>118</li><li>381</li><li>481</li><li>165</li><li>218</li><li>408</li><li>278</li><li>181</li><li>943</li><li>767</li><li>775</li><li>852</li><li>574</li><li>873</li><li>720</li><li>272</li><li>189</li><li>497</li><li>664</li><li>444</li><li>727</li><li>61</li><li>482</li><li>250</li><li>796</li><li>443</li><li>330</li><li>25</li><li>683</li><li>721</li><li>695</li><li>137</li><li>682</li><li>477</li><li>52</li><li>209</li><li>213</li><li>403</li><li>41</li><li>195</li><li>789</li><li>20</li><li>598</li><li>503</li><li>569</li><li>284</li><li>962</li><li>980</li><li>688</li><li>966</li><li>422</li></ol>\n"
      ],
      "text/latex": [
       "\\begin{enumerate*}\n",
       "\\item 783\n",
       "\\item 454\n",
       "\\item 339\n",
       "\\item 753\n",
       "\\item 839\n",
       "\\item 162\n",
       "\\item 565\n",
       "\\item 366\n",
       "\\item 193\n",
       "\\item 8\n",
       "\\item 107\n",
       "\\item 470\n",
       "\\item 939\n",
       "\\item 693\n",
       "\\item 877\n",
       "\\item 801\n",
       "\\item 702\n",
       "\\item 919\n",
       "\\item 163\n",
       "\\item 485\n",
       "\\item 303\n",
       "\\item 524\n",
       "\\item 908\n",
       "\\item 792\n",
       "\\item 646\n",
       "\\item 709\n",
       "\\item 409\n",
       "\\item 108\n",
       "\\item 345\n",
       "\\item 310\n",
       "\\item 70\n",
       "\\item 941\n",
       "\\item 344\n",
       "\\item 450\n",
       "\\item 841\n",
       "\\item 274\n",
       "\\item 493\n",
       "\\item 410\n",
       "\\item 769\n",
       "\\item 853\n",
       "\\item 629\n",
       "\\item 73\n",
       "\\item 159\n",
       "\\item 507\n",
       "\\item 30\n",
       "\\item 982\n",
       "\\item 180\n",
       "\\item 312\n",
       "\\item 50\n",
       "\\item 806\n",
       "\\item 135\n",
       "\\item 399\n",
       "\\item 597\n",
       "\\item 84\n",
       "\\item 652\n",
       "\\item 741\n",
       "\\item 186\n",
       "\\item 602\n",
       "\\item 885\n",
       "\\item 105\n",
       "\\item 60\n",
       "\\item 382\n",
       "\\item 722\n",
       "\\item 736\n",
       "\\item 934\n",
       "\\item 746\n",
       "\\item 184\n",
       "\\item 762\n",
       "\\item 935\n",
       "\\item 160\n",
       "\\item 619\n",
       "\\item 484\n",
       "\\item 694\n",
       "\\item 116\n",
       "\\item 384\n",
       "\\item 260\n",
       "\\item 465\n",
       "\\item 91\n",
       "\\item 829\n",
       "\\item 808\n",
       "\\item 929\n",
       "\\item 277\n",
       "\\item 279\n",
       "\\item 511\n",
       "\\item 199\n",
       "\\item 362\n",
       "\\item 173\n",
       "\\item 134\n",
       "\\item 760\n",
       "\\item 337\n",
       "\\item 509\n",
       "\\item 596\n",
       "\\item 435\n",
       "\\item 393\n",
       "\\item 63\n",
       "\\item 636\n",
       "\\item 944\n",
       "\\item 26\n",
       "\\item 265\n",
       "\\item 118\n",
       "\\item 381\n",
       "\\item 481\n",
       "\\item 165\n",
       "\\item 218\n",
       "\\item 408\n",
       "\\item 278\n",
       "\\item 181\n",
       "\\item 943\n",
       "\\item 767\n",
       "\\item 775\n",
       "\\item 852\n",
       "\\item 574\n",
       "\\item 873\n",
       "\\item 720\n",
       "\\item 272\n",
       "\\item 189\n",
       "\\item 497\n",
       "\\item 664\n",
       "\\item 444\n",
       "\\item 727\n",
       "\\item 61\n",
       "\\item 482\n",
       "\\item 250\n",
       "\\item 796\n",
       "\\item 443\n",
       "\\item 330\n",
       "\\item 25\n",
       "\\item 683\n",
       "\\item 721\n",
       "\\item 695\n",
       "\\item 137\n",
       "\\item 682\n",
       "\\item 477\n",
       "\\item 52\n",
       "\\item 209\n",
       "\\item 213\n",
       "\\item 403\n",
       "\\item 41\n",
       "\\item 195\n",
       "\\item 789\n",
       "\\item 20\n",
       "\\item 598\n",
       "\\item 503\n",
       "\\item 569\n",
       "\\item 284\n",
       "\\item 962\n",
       "\\item 980\n",
       "\\item 688\n",
       "\\item 966\n",
       "\\item 422\n",
       "\\end{enumerate*}\n"
      ],
      "text/markdown": [
       "1. 783\n",
       "2. 454\n",
       "3. 339\n",
       "4. 753\n",
       "5. 839\n",
       "6. 162\n",
       "7. 565\n",
       "8. 366\n",
       "9. 193\n",
       "10. 8\n",
       "11. 107\n",
       "12. 470\n",
       "13. 939\n",
       "14. 693\n",
       "15. 877\n",
       "16. 801\n",
       "17. 702\n",
       "18. 919\n",
       "19. 163\n",
       "20. 485\n",
       "21. 303\n",
       "22. 524\n",
       "23. 908\n",
       "24. 792\n",
       "25. 646\n",
       "26. 709\n",
       "27. 409\n",
       "28. 108\n",
       "29. 345\n",
       "30. 310\n",
       "31. 70\n",
       "32. 941\n",
       "33. 344\n",
       "34. 450\n",
       "35. 841\n",
       "36. 274\n",
       "37. 493\n",
       "38. 410\n",
       "39. 769\n",
       "40. 853\n",
       "41. 629\n",
       "42. 73\n",
       "43. 159\n",
       "44. 507\n",
       "45. 30\n",
       "46. 982\n",
       "47. 180\n",
       "48. 312\n",
       "49. 50\n",
       "50. 806\n",
       "51. 135\n",
       "52. 399\n",
       "53. 597\n",
       "54. 84\n",
       "55. 652\n",
       "56. 741\n",
       "57. 186\n",
       "58. 602\n",
       "59. 885\n",
       "60. 105\n",
       "61. 60\n",
       "62. 382\n",
       "63. 722\n",
       "64. 736\n",
       "65. 934\n",
       "66. 746\n",
       "67. 184\n",
       "68. 762\n",
       "69. 935\n",
       "70. 160\n",
       "71. 619\n",
       "72. 484\n",
       "73. 694\n",
       "74. 116\n",
       "75. 384\n",
       "76. 260\n",
       "77. 465\n",
       "78. 91\n",
       "79. 829\n",
       "80. 808\n",
       "81. 929\n",
       "82. 277\n",
       "83. 279\n",
       "84. 511\n",
       "85. 199\n",
       "86. 362\n",
       "87. 173\n",
       "88. 134\n",
       "89. 760\n",
       "90. 337\n",
       "91. 509\n",
       "92. 596\n",
       "93. 435\n",
       "94. 393\n",
       "95. 63\n",
       "96. 636\n",
       "97. 944\n",
       "98. 26\n",
       "99. 265\n",
       "100. 118\n",
       "101. 381\n",
       "102. 481\n",
       "103. 165\n",
       "104. 218\n",
       "105. 408\n",
       "106. 278\n",
       "107. 181\n",
       "108. 943\n",
       "109. 767\n",
       "110. 775\n",
       "111. 852\n",
       "112. 574\n",
       "113. 873\n",
       "114. 720\n",
       "115. 272\n",
       "116. 189\n",
       "117. 497\n",
       "118. 664\n",
       "119. 444\n",
       "120. 727\n",
       "121. 61\n",
       "122. 482\n",
       "123. 250\n",
       "124. 796\n",
       "125. 443\n",
       "126. 330\n",
       "127. 25\n",
       "128. 683\n",
       "129. 721\n",
       "130. 695\n",
       "131. 137\n",
       "132. 682\n",
       "133. 477\n",
       "134. 52\n",
       "135. 209\n",
       "136. 213\n",
       "137. 403\n",
       "138. 41\n",
       "139. 195\n",
       "140. 789\n",
       "141. 20\n",
       "142. 598\n",
       "143. 503\n",
       "144. 569\n",
       "145. 284\n",
       "146. 962\n",
       "147. 980\n",
       "148. 688\n",
       "149. 966\n",
       "150. 422\n",
       "\n",
       "\n"
      ],
      "text/plain": [
       "  [1] 783 454 339 753 839 162 565 366 193   8 107 470 939 693 877 801 702 919\n",
       " [19] 163 485 303 524 908 792 646 709 409 108 345 310  70 941 344 450 841 274\n",
       " [37] 493 410 769 853 629  73 159 507  30 982 180 312  50 806 135 399 597  84\n",
       " [55] 652 741 186 602 885 105  60 382 722 736 934 746 184 762 935 160 619 484\n",
       " [73] 694 116 384 260 465  91 829 808 929 277 279 511 199 362 173 134 760 337\n",
       " [91] 509 596 435 393  63 636 944  26 265 118 381 481 165 218 408 278 181 943\n",
       "[109] 767 775 852 574 873 720 272 189 497 664 444 727  61 482 250 796 443 330\n",
       "[127]  25 683 721 695 137 682 477  52 209 213 403  41 195 789  20 598 503 569\n",
       "[145] 284 962 980 688 966 422"
      ]
     },
     "metadata": {},
     "output_type": "display_data"
    }
   ],
   "source": [
    "amostra = sample(c(1:1000), 150, replace = FALSE)\n",
    "amostra"
   ]
  },
  {
   "cell_type": "markdown",
   "metadata": {},
   "source": [
    "4) Gerando amostra de conjuntos de dados\n",
    "\n",
    "Vamos gerar uma amostra aleatória de 30% dos dados cars"
   ]
  },
  {
   "cell_type": "code",
   "execution_count": 13,
   "metadata": {},
   "outputs": [
    {
     "data": {
      "text/html": [
       "<style>\n",
       ".list-inline {list-style: none; margin:0; padding: 0}\n",
       ".list-inline>li {display: inline-block}\n",
       ".list-inline>li:not(:last-child)::after {content: \"\\00b7\"; padding: 0 .5ex}\n",
       "</style>\n",
       "<ol class=list-inline><li>50</li><li>2</li></ol>\n"
      ],
      "text/latex": [
       "\\begin{enumerate*}\n",
       "\\item 50\n",
       "\\item 2\n",
       "\\end{enumerate*}\n"
      ],
      "text/markdown": [
       "1. 50\n",
       "2. 2\n",
       "\n",
       "\n"
      ],
      "text/plain": [
       "[1] 50  2"
      ]
     },
     "metadata": {},
     "output_type": "display_data"
    }
   ],
   "source": [
    "#Observe que cars tem 50 linhas\n",
    "dim(cars)"
   ]
  },
  {
   "cell_type": "code",
   "execution_count": 14,
   "metadata": {},
   "outputs": [],
   "source": [
    "amostra= sample(x=c(0,1), size =50, replace=TRUE, prob = c(0.7,0.3) )"
   ]
  },
  {
   "cell_type": "code",
   "execution_count": 15,
   "metadata": {},
   "outputs": [
    {
     "data": {
      "text/html": [
       "<style>\n",
       ".dl-inline {width: auto; margin:0; padding: 0}\n",
       ".dl-inline>dt, .dl-inline>dd {float: none; width: auto; display: inline-block}\n",
       ".dl-inline>dt::after {content: \":\\0020\"; padding-right: .5ex}\n",
       ".dl-inline>dt:not(:first-of-type) {padding-left: .5ex}\n",
       "</style><dl class=dl-inline><dt>0</dt><dd>34</dd><dt>1</dt><dd>16</dd></dl>\n"
      ],
      "text/latex": [
       "\\begin{description*}\n",
       "\\item[0] 34\n",
       "\\item[1] 16\n",
       "\\end{description*}\n"
      ],
      "text/markdown": [
       "0\n",
       ":   341\n",
       ":   16\n",
       "\n"
      ],
      "text/plain": [
       " 0  1 \n",
       "34 16 "
      ]
     },
     "metadata": {},
     "output_type": "display_data"
    }
   ],
   "source": [
    "summary(factor(amostra))"
   ]
  },
  {
   "cell_type": "code",
   "execution_count": 16,
   "metadata": {},
   "outputs": [],
   "source": [
    "cars_30<- cars[amostra==1,] "
   ]
  },
  {
   "cell_type": "code",
   "execution_count": 17,
   "metadata": {},
   "outputs": [
    {
     "data": {
      "text/html": [
       "<style>\n",
       ".list-inline {list-style: none; margin:0; padding: 0}\n",
       ".list-inline>li {display: inline-block}\n",
       ".list-inline>li:not(:last-child)::after {content: \"\\00b7\"; padding: 0 .5ex}\n",
       "</style>\n",
       "<ol class=list-inline><li>16</li><li>2</li></ol>\n"
      ],
      "text/latex": [
       "\\begin{enumerate*}\n",
       "\\item 16\n",
       "\\item 2\n",
       "\\end{enumerate*}\n"
      ],
      "text/markdown": [
       "1. 16\n",
       "2. 2\n",
       "\n",
       "\n"
      ],
      "text/plain": [
       "[1] 16  2"
      ]
     },
     "metadata": {},
     "output_type": "display_data"
    }
   ],
   "source": [
    "dim(cars_30)"
   ]
  },
  {
   "cell_type": "code",
   "execution_count": 18,
   "metadata": {},
   "outputs": [
    {
     "data": {
      "text/html": [
       "<table class=\"dataframe\">\n",
       "<caption>A data.frame: 6 × 2</caption>\n",
       "<thead>\n",
       "\t<tr><th></th><th scope=col>speed</th><th scope=col>dist</th></tr>\n",
       "\t<tr><th></th><th scope=col>&lt;dbl&gt;</th><th scope=col>&lt;dbl&gt;</th></tr>\n",
       "</thead>\n",
       "<tbody>\n",
       "\t<tr><th scope=row>1</th><td> 4</td><td> 2</td></tr>\n",
       "\t<tr><th scope=row>2</th><td> 4</td><td>10</td></tr>\n",
       "\t<tr><th scope=row>6</th><td> 9</td><td>10</td></tr>\n",
       "\t<tr><th scope=row>8</th><td>10</td><td>26</td></tr>\n",
       "\t<tr><th scope=row>9</th><td>10</td><td>34</td></tr>\n",
       "\t<tr><th scope=row>17</th><td>13</td><td>34</td></tr>\n",
       "</tbody>\n",
       "</table>\n"
      ],
      "text/latex": [
       "A data.frame: 6 × 2\n",
       "\\begin{tabular}{r|ll}\n",
       "  & speed & dist\\\\\n",
       "  & <dbl> & <dbl>\\\\\n",
       "\\hline\n",
       "\t1 &  4 &  2\\\\\n",
       "\t2 &  4 & 10\\\\\n",
       "\t6 &  9 & 10\\\\\n",
       "\t8 & 10 & 26\\\\\n",
       "\t9 & 10 & 34\\\\\n",
       "\t17 & 13 & 34\\\\\n",
       "\\end{tabular}\n"
      ],
      "text/markdown": [
       "\n",
       "A data.frame: 6 × 2\n",
       "\n",
       "| <!--/--> | speed &lt;dbl&gt; | dist &lt;dbl&gt; |\n",
       "|---|---|---|\n",
       "| 1 |  4 |  2 |\n",
       "| 2 |  4 | 10 |\n",
       "| 6 |  9 | 10 |\n",
       "| 8 | 10 | 26 |\n",
       "| 9 | 10 | 34 |\n",
       "| 17 | 13 | 34 |\n",
       "\n"
      ],
      "text/plain": [
       "   speed dist\n",
       "1   4     2  \n",
       "2   4    10  \n",
       "6   9    10  \n",
       "8  10    26  \n",
       "9  10    34  \n",
       "17 13    34  "
      ]
     },
     "metadata": {},
     "output_type": "display_data"
    }
   ],
   "source": [
    "head(cars_30)"
   ]
  },
  {
   "cell_type": "markdown",
   "metadata": {},
   "source": [
    "Veerificando o tamanho da amostra:"
   ]
  },
  {
   "cell_type": "code",
   "execution_count": 25,
   "metadata": {},
   "outputs": [
    {
     "data": {
      "text/html": [
       "0.32"
      ],
      "text/latex": [
       "0.32"
      ],
      "text/markdown": [
       "0.32"
      ],
      "text/plain": [
       "[1] 0.32"
      ]
     },
     "metadata": {},
     "output_type": "display_data"
    }
   ],
   "source": [
    "\n",
    "nrow(cars_30)/nrow(cars)"
   ]
  },
  {
   "cell_type": "markdown",
   "metadata": {},
   "source": [
    "Era isso que eu queria mostrar"
   ]
  },
  {
   "cell_type": "markdown",
   "metadata": {},
   "source": [
    "**Keep calm and analysing data!**"
   ]
  },
  {
   "cell_type": "code",
   "execution_count": null,
   "metadata": {},
   "outputs": [],
   "source": []
  }
 ],
 "metadata": {
  "hide_input": false,
  "kernelspec": {
   "display_name": "R",
   "language": "R",
   "name": "ir"
  },
  "language_info": {
   "codemirror_mode": "r",
   "file_extension": ".r",
   "mimetype": "text/x-r-source",
   "name": "R",
   "pygments_lexer": "r",
   "version": "4.0.2"
  }
 },
 "nbformat": 4,
 "nbformat_minor": 2
}
